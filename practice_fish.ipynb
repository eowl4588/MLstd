{
 "cells": [
  {
   "cell_type": "code",
   "execution_count": 1,
   "id": "b2201ec4",
   "metadata": {},
   "outputs": [],
   "source": [
    "import matplotlib.pyplot as plt\n",
    "from sklearn.neighbors import KNeighborsClassifier"
   ]
  },
  {
   "cell_type": "code",
   "execution_count": 2,
   "id": "98b6a748",
   "metadata": {},
   "outputs": [],
   "source": [
    "bream_length = [25.4, 26.3, 26.5, 29.0, 29.7]\n",
    "bream_weight =[242.0, 290.0, 340.0,363.0, 430.0]"
   ]
  },
  {
   "cell_type": "code",
   "execution_count": 3,
   "id": "48195f1c",
   "metadata": {},
   "outputs": [
    {
     "data": {
      "image/png": "[encoded data removed]",
      "text/plain": [
       "<Figure size 432x288 with 1 Axes>"
      ]
     },
     "metadata": {
      "needs_background": "light"
     },
     "output_type": "display_data"
    }
   ],
   "source": [
    "plt.scatter(bream_length, bream_weight)\n",
    "plt.xlabel('length')\n",
    "plt.ylabel('weight')\n",
    "plt.show()"
   ]
  },
  {
   "cell_type": "code",
   "execution_count": 4,
   "id": "f27f58c6",
   "metadata": {},
   "outputs": [],
   "source": [
    "smelt_length = [9.8, 10.5, 10.6]\n",
    "smelt_weight = [6.7, 7.5,7.0]"
   ]
  },
  {
   "cell_type": "code",
   "execution_count": 5,
   "id": "20f7cee1",
   "metadata": {},
   "outputs": [
    {
     "data": {
      "image/png": "[encoded data removed]",
      "text/plain": [
       "<Figure size 432x288 with 1 Axes>"
      ]
     },
     "metadata": {
      "needs_background": "light"
     },
     "output_type": "display_data"
    }
   ],
   "source": [
    "plt.scatter(bream_length, bream_weight)\n",
    "plt.scatter(smelt_length, smelt_weight)\n",
    "plt.xlabel('length')\n",
    "plt.ylabel('weight')\n",
    "plt.show()"
   ]
  },
  {
   "cell_type": "code",
   "execution_count": 6,
   "id": "74cdeda9",
   "metadata": {},
   "outputs": [],
   "source": [
    "#length = bream_length + smelt_length\n",
    "#weight = bream_weight + smelt_weight\n",
    "\n",
    "length = [25.4, 26.3, 26.5, 29.0, 29.0, 29.7, 29.7, 30.0, 30.0, 30.7, 31.0, 31.0, \n",
    "31.5, 32.0, 32.0, 32.0, 33.0, 33.0, 33.5, 33.5, 34.0, 34.0, 34.5, 35.0, \n",
    "35.0, 35.0, 35.0, 36.0, 36.0, 37.0, 38.5, 38.5, 39.5, 41.0, 41.0, 9.8, \n",
    "10.5, 10.6, 11.0, 11.2, 11.3, 11.8, 11.8, 12.0, 12.2, 12.4, 13.0, 14.3, 15.0]\n",
    "weight = [242.0, 290.0, 340.0, 363.0, 430.0, 450.0, 500.0, 390.0, 450.0, 500.0, 475.0, 500.0, \n",
    "500.0, 340.0, 600.0, 600.0, 700.0, 700.0, 610.0, 650.0, 575.0, 685.0, 620.0, 680.0, \n",
    "700.0, 725.0, 720.0, 714.0, 850.0, 1000.0, 920.0, 955.0, 925.0, 975.0, 950.0, 6.7, \n",
    "7.5, 7.0, 9.7, 9.8, 8.7, 10.0, 9.9, 9.8, 12.2, 13.4, 12.2, 19.7, 19.9]"
   ]
  },
  {
   "cell_type": "code",
   "execution_count": 7,
   "id": "672b410e",
   "metadata": {},
   "outputs": [],
   "source": [
    "# 2차원 리스트로 만들기\n",
    "fish_data = [[l,w] for l, w in zip(length, weight)]"
   ]
  },
  {
   "cell_type": "code",
   "execution_count": 8,
   "id": "40f8e64a",
   "metadata": {},
   "outputs": [
    {
     "data": {
      "text/plain": [
       "[[25.4, 242.0],\n",
       " [26.3, 290.0],\n",
       " [26.5, 340.0],\n",
       " [29.0, 363.0],\n",
       " [29.0, 430.0],\n",
       " [29.7, 450.0],\n",
       " [29.7, 500.0],\n",
       " [30.0, 390.0],\n",
       " [30.0, 450.0],\n",
       " [30.7, 500.0],\n",
       " [31.0, 475.0],\n",
       " [31.0, 500.0],\n",
       " [31.5, 500.0],\n",
       " [32.0, 340.0],\n",
       " [32.0, 600.0],\n",
       " [32.0, 600.0],\n",
       " [33.0, 700.0],\n",
       " [33.0, 700.0],\n",
       " [33.5, 610.0],\n",
       " [33.5, 650.0],\n",
       " [34.0, 575.0],\n",
       " [34.0, 685.0],\n",
       " [34.5, 620.0],\n",
       " [35.0, 680.0],\n",
       " [35.0, 700.0],\n",
       " [35.0, 725.0],\n",
       " [35.0, 720.0],\n",
       " [36.0, 714.0],\n",
       " [36.0, 850.0],\n",
       " [37.0, 1000.0],\n",
       " [38.5, 920.0],\n",
       " [38.5, 955.0],\n",
       " [39.5, 925.0],\n",
       " [41.0, 975.0],\n",
       " [41.0, 950.0],\n",
       " [9.8, 6.7],\n",
       " [10.5, 7.5],\n",
       " [10.6, 7.0],\n",
       " [11.0, 9.7],\n",
       " [11.2, 9.8],\n",
       " [11.3, 8.7],\n",
       " [11.8, 10.0],\n",
       " [11.8, 9.9],\n",
       " [12.0, 9.8],\n",
       " [12.2, 12.2],\n",
       " [12.4, 13.4],\n",
       " [13.0, 12.2],\n",
       " [14.3, 19.7],\n",
       " [15.0, 19.9]]"
      ]
     },
     "execution_count": 8,
     "metadata": {},
     "output_type": "execute_result"
    }
   ],
   "source": [
    "fish_data"
   ]
  },
  {
   "cell_type": "code",
   "execution_count": 9,
   "id": "8f38f9d1",
   "metadata": {},
   "outputs": [
    {
     "data": {
      "text/plain": [
       "[1,\n",
       " 1,\n",
       " 1,\n",
       " 1,\n",
       " 1,\n",
       " 1,\n",
       " 1,\n",
       " 1,\n",
       " 1,\n",
       " 1,\n",
       " 1,\n",
       " 1,\n",
       " 1,\n",
       " 1,\n",
       " 1,\n",
       " 1,\n",
       " 1,\n",
       " 1,\n",
       " 1,\n",
       " 1,\n",
       " 1,\n",
       " 1,\n",
       " 1,\n",
       " 1,\n",
       " 1,\n",
       " 1,\n",
       " 1,\n",
       " 1,\n",
       " 1,\n",
       " 1,\n",
       " 1,\n",
       " 1,\n",
       " 1,\n",
       " 1,\n",
       " 1,\n",
       " 0,\n",
       " 0,\n",
       " 0,\n",
       " 0,\n",
       " 0,\n",
       " 0,\n",
       " 0,\n",
       " 0,\n",
       " 0,\n",
       " 0,\n",
       " 0,\n",
       " 0,\n",
       " 0,\n",
       " 0]"
      ]
     },
     "execution_count": 9,
     "metadata": {},
     "output_type": "execute_result"
    }
   ],
   "source": [
    "# target 정하기\n",
    "fish_target = [1] * 35 + [0] * 14\n",
    "# 도미 : 5번\n",
    "# 빙어 : 3번\n",
    "fish_target"
   ]
  },
  {
   "cell_type": "code",
   "execution_count": 10,
   "id": "ca0e9de6",
   "metadata": {},
   "outputs": [],
   "source": [
    "# 모델 설정\n",
    "kn = KNeighborsClassifier()"
   ]
  },
  {
   "cell_type": "code",
   "execution_count": 11,
   "id": "44e8b63b",
   "metadata": {},
   "outputs": [
    {
     "data": {
      "text/plain": [
       "KNeighborsClassifier()"
      ]
     },
     "execution_count": 11,
     "metadata": {},
     "output_type": "execute_result"
    }
   ],
   "source": [
    "# 훈련 시키기!\n",
    "# 기존 도미에 있는 벨류면 1 빙어 벨류면 0!\n",
    "kn.fit(fish_data, fish_target)"
   ]
  },
  {
   "cell_type": "code",
   "execution_count": 12,
   "id": "3f13582f",
   "metadata": {},
   "outputs": [
    {
     "data": {
      "text/plain": [
       "1.0"
      ]
     },
     "execution_count": 12,
     "metadata": {},
     "output_type": "execute_result"
    }
   ],
   "source": [
    "# 모델 평가!\n",
    "kn.score(fish_data,fish_target)"
   ]
  },
  {
   "cell_type": "code",
   "execution_count": 13,
   "id": "d9402af9",
   "metadata": {},
   "outputs": [
    {
     "data": {
      "text/plain": [
       "array([1])"
      ]
     },
     "execution_count": 13,
     "metadata": {},
     "output_type": "execute_result"
    }
   ],
   "source": [
    "# 예측하기\n",
    "kn.predict([[30,600]])"
   ]
  },
  {
   "cell_type": "code",
   "execution_count": 14,
   "id": "dd9b2c45",
   "metadata": {},
   "outputs": [
    {
     "data": {
      "text/plain": [
       "array([0, 1])"
      ]
     },
     "execution_count": 14,
     "metadata": {},
     "output_type": "execute_result"
    }
   ],
   "source": [
    "# 예측하기\n",
    "kn.predict([[10,50],[40,550]])"
   ]
  },
  {
   "cell_type": "markdown",
   "id": "4e43143b",
   "metadata": {},
   "source": [
    "### Knn은 데이터가 많으면 사용하기 어렵다"
   ]
  },
  {
   "cell_type": "code",
   "execution_count": 15,
   "id": "609a4e04",
   "metadata": {},
   "outputs": [
    {
     "name": "stdout",
     "output_type": "stream",
     "text": [
      "[1 1 1 1 1 1 1 1 1 1 1 1 1 1 1 1 1 1 1 1 1 1 1 1 1 1 1 1 1 1 1 1 1 1 1 0 0\n",
      " 0 0 0 0 0 0 0 0 0 0 0 0]\n"
     ]
    }
   ],
   "source": [
    "print(kn._y)"
   ]
  },
  {
   "cell_type": "code",
   "execution_count": 16,
   "id": "dfebb241",
   "metadata": {},
   "outputs": [],
   "source": [
    "# n_neighbors : 몇개의 가까운 데이터를 참고할지\n",
    "# 이렇게 되면 가장 많은 도미의 확률이 가장 높아 도미로만 예측함"
   ]
  },
  {
   "cell_type": "markdown",
   "id": "ef64bc56",
   "metadata": {},
   "source": [
    "### 훈련 / 테스트 세트"
   ]
  },
  {
   "cell_type": "code",
   "execution_count": 17,
   "id": "da17151a",
   "metadata": {},
   "outputs": [],
   "source": [
    "kn = KNeighborsClassifier()"
   ]
  },
  {
   "cell_type": "code",
   "execution_count": 18,
   "id": "c6cf3a9d",
   "metadata": {},
   "outputs": [],
   "source": [
    "# 35개를 훈련 세트, 이후를 테스트셋\n",
    "# 이러면 아마 도미만 훈련되고 테스트는 빙어만 될 것 같음\n",
    "train_input = fish_data[:35]\n",
    "train_target = fish_target[:35]\n",
    "\n",
    "test_input = fish_data[35:]\n",
    "test_target = fish_target[35:]"
   ]
  },
  {
   "cell_type": "code",
   "execution_count": 19,
   "id": "7b9f3dcd",
   "metadata": {},
   "outputs": [],
   "source": [
    "kn = kn.fit(train_input,train_target)"
   ]
  },
  {
   "cell_type": "code",
   "execution_count": 20,
   "id": "83719741",
   "metadata": {},
   "outputs": [
    {
     "data": {
      "text/plain": [
       "0.0"
      ]
     },
     "execution_count": 20,
     "metadata": {},
     "output_type": "execute_result"
    }
   ],
   "source": [
    "kn.score(test_input,test_target)"
   ]
  },
  {
   "cell_type": "markdown",
   "id": "9f5014db",
   "metadata": {},
   "source": [
    "예상한대로 훈련이 도미만되고, 빙어는 되지 않음\n",
    "### 샘플링 편향\n",
    "훈련, 테스트 세트가 골고루 섞이지 않고 한쪽으로 치우침"
   ]
  },
  {
   "cell_type": "code",
   "execution_count": 21,
   "id": "73499c6b",
   "metadata": {},
   "outputs": [],
   "source": [
    "import numpy as np"
   ]
  },
  {
   "cell_type": "code",
   "execution_count": 22,
   "id": "5a953196",
   "metadata": {},
   "outputs": [],
   "source": [
    "input_arr = np.array(fish_data)\n",
    "target_arr = np.array(fish_target)"
   ]
  },
  {
   "cell_type": "code",
   "execution_count": 23,
   "id": "30d3c299",
   "metadata": {},
   "outputs": [
    {
     "name": "stdout",
     "output_type": "stream",
     "text": [
      "[[  25.4  242. ]\n",
      " [  26.3  290. ]\n",
      " [  26.5  340. ]\n",
      " [  29.   363. ]\n",
      " [  29.   430. ]\n",
      " [  29.7  450. ]\n",
      " [  29.7  500. ]\n",
      " [  30.   390. ]\n",
      " [  30.   450. ]\n",
      " [  30.7  500. ]\n",
      " [  31.   475. ]\n",
      " [  31.   500. ]\n",
      " [  31.5  500. ]\n",
      " [  32.   340. ]\n",
      " [  32.   600. ]\n",
      " [  32.   600. ]\n",
      " [  33.   700. ]\n",
      " [  33.   700. ]\n",
      " [  33.5  610. ]\n",
      " [  33.5  650. ]\n",
      " [  34.   575. ]\n",
      " [  34.   685. ]\n",
      " [  34.5  620. ]\n",
      " [  35.   680. ]\n",
      " [  35.   700. ]\n",
      " [  35.   725. ]\n",
      " [  35.   720. ]\n",
      " [  36.   714. ]\n",
      " [  36.   850. ]\n",
      " [  37.  1000. ]\n",
      " [  38.5  920. ]\n",
      " [  38.5  955. ]\n",
      " [  39.5  925. ]\n",
      " [  41.   975. ]\n",
      " [  41.   950. ]\n",
      " [   9.8    6.7]\n",
      " [  10.5    7.5]\n",
      " [  10.6    7. ]\n",
      " [  11.     9.7]\n",
      " [  11.2    9.8]\n",
      " [  11.3    8.7]\n",
      " [  11.8   10. ]\n",
      " [  11.8    9.9]\n",
      " [  12.     9.8]\n",
      " [  12.2   12.2]\n",
      " [  12.4   13.4]\n",
      " [  13.    12.2]\n",
      " [  14.3   19.7]\n",
      " [  15.    19.9]]\n",
      "[1 1 1 1 1 1 1 1 1 1 1 1 1 1 1 1 1 1 1 1 1 1 1 1 1 1 1 1 1 1 1 1 1 1 1 0 0\n",
      " 0 0 0 0 0 0 0 0 0 0 0 0]\n"
     ]
    }
   ],
   "source": [
    "print(input_arr)\n",
    "print(target_arr)"
   ]
  },
  {
   "cell_type": "code",
   "execution_count": 24,
   "id": "bad4ec76",
   "metadata": {},
   "outputs": [
    {
     "name": "stdout",
     "output_type": "stream",
     "text": [
      "(49, 2)\n"
     ]
    }
   ],
   "source": [
    "# 샘플 수 , 특성 수\n",
    "print(input_arr.shape)"
   ]
  },
  {
   "cell_type": "code",
   "execution_count": 25,
   "id": "a06b6d31",
   "metadata": {},
   "outputs": [
    {
     "data": {
      "text/plain": [
       "array([13, 45, 47, 44, 17, 27, 26, 25, 31, 19, 12,  4, 34,  8,  3,  6, 40,\n",
       "       41, 46, 15,  9, 16, 24, 33, 30,  0, 43, 32,  5, 29, 11, 36,  1, 21,\n",
       "        2, 37, 35, 23, 39, 10, 22, 18, 48, 20,  7, 42, 14, 28, 38])"
      ]
     },
     "execution_count": 25,
     "metadata": {},
     "output_type": "execute_result"
    }
   ],
   "source": [
    "# 인덱스 랜덤으로 지정\n",
    "np.random.seed(42)\n",
    "index = np.arange(49)\n",
    "np.random.shuffle(index)\n",
    "index"
   ]
  },
  {
   "cell_type": "code",
   "execution_count": 26,
   "id": "37f0ae7d",
   "metadata": {},
   "outputs": [],
   "source": [
    "# 랜덤 인덱스에 맞춰 피쳐 나누기\n",
    "train_input = input_arr[index[:35]]\n",
    "train_target = target_arr[index[:35]]\n",
    "\n",
    "test_input = input_arr[index[35:]]\n",
    "test_target = target_arr[index[35:]]"
   ]
  },
  {
   "cell_type": "code",
   "execution_count": 27,
   "id": "22944853",
   "metadata": {},
   "outputs": [
    {
     "name": "stdout",
     "output_type": "stream",
     "text": [
      "[ 32. 340.] [ 32. 340.]\n"
     ]
    }
   ],
   "source": [
    "# train input[0]  -->  input_arr[13] \n",
    "print(input_arr[13],train_input[0])"
   ]
  },
  {
   "cell_type": "code",
   "execution_count": 28,
   "id": "1672f3e1",
   "metadata": {},
   "outputs": [
    {
     "data": {
      "image/png": "[encoded data removed]",
      "text/plain": [
       "<Figure size 432x288 with 1 Axes>"
      ]
     },
     "metadata": {
      "needs_background": "light"
     },
     "output_type": "display_data"
    }
   ],
   "source": [
    "# 시각화로 값이 잘 섞였나 확인\n",
    "plt.scatter(train_input[:,0], train_input[:,1])\n",
    "plt.scatter(test_input[:,0], test_input[:,1])\n",
    "plt.xlabel('length')\n",
    "plt.ylabel('weight')\n",
    "plt.show()"
   ]
  },
  {
   "cell_type": "code",
   "execution_count": 29,
   "id": "83183ac4",
   "metadata": {},
   "outputs": [],
   "source": [
    "# 섞인 값으로 훈련\n",
    "kn = kn.fit(train_input,train_target)"
   ]
  },
  {
   "cell_type": "code",
   "execution_count": 30,
   "id": "2aef6e9f",
   "metadata": {},
   "outputs": [
    {
     "data": {
      "text/plain": [
       "1.0"
      ]
     },
     "execution_count": 30,
     "metadata": {},
     "output_type": "execute_result"
    }
   ],
   "source": [
    "kn.score(test_input,test_target)"
   ]
  },
  {
   "cell_type": "code",
   "execution_count": 31,
   "id": "b3542104",
   "metadata": {},
   "outputs": [
    {
     "data": {
      "text/plain": [
       "array([0, 0, 1, 0, 1, 1, 1, 0, 1, 1, 0, 1, 1, 0])"
      ]
     },
     "execution_count": 31,
     "metadata": {},
     "output_type": "execute_result"
    }
   ],
   "source": [
    "pred_result = kn.predict(test_input)\n",
    "pred_result"
   ]
  },
  {
   "cell_type": "code",
   "execution_count": 32,
   "id": "1850e4c0",
   "metadata": {},
   "outputs": [
    {
     "name": "stdout",
     "output_type": "stream",
     "text": [
      "예측 성공\n",
      "pred_result :  [0 0 1 0 1 1 1 0 1 1 0 1 1 0]\n",
      "test_target :  [0 0 1 0 1 1 1 0 1 1 0 1 1 0]\n"
     ]
    }
   ],
   "source": [
    "if pred_result.all() == test_target.all():\n",
    "    print('예측 성공')\n",
    "    print('pred_result : ', pred_result)\n",
    "    print('test_target : ', test_target)\n",
    "else:\n",
    "    print('예측 실패')"
   ]
  },
  {
   "cell_type": "code",
   "execution_count": 33,
   "id": "ee805a2f",
   "metadata": {},
   "outputs": [
    {
     "data": {
      "text/plain": [
       "array([0])"
      ]
     },
     "execution_count": 33,
     "metadata": {},
     "output_type": "execute_result"
    }
   ],
   "source": [
    "# 25,150 이면 빙어로 예측하는 오류가 있음\n",
    "kn.predict([[25.0,150.0]])"
   ]
  },
  {
   "cell_type": "code",
   "execution_count": 34,
   "id": "8571bda4",
   "metadata": {},
   "outputs": [
    {
     "data": {
      "text/plain": [
       "array([[1, 4],\n",
       "       [2, 5],\n",
       "       [3, 6]])"
      ]
     },
     "execution_count": 34,
     "metadata": {},
     "output_type": "execute_result"
    }
   ],
   "source": [
    "np.column_stack(([1,2,3],[4,5,6]))"
   ]
  },
  {
   "cell_type": "code",
   "execution_count": 35,
   "id": "86246cde",
   "metadata": {},
   "outputs": [],
   "source": [
    "fish_data = np.column_stack((length,weight))"
   ]
  },
  {
   "cell_type": "code",
   "execution_count": 36,
   "id": "631c8a3a",
   "metadata": {},
   "outputs": [
    {
     "name": "stdout",
     "output_type": "stream",
     "text": [
      "[[ 25.4 242. ]\n",
      " [ 26.3 290. ]\n",
      " [ 26.5 340. ]\n",
      " [ 29.  363. ]\n",
      " [ 29.  430. ]]\n"
     ]
    }
   ],
   "source": [
    "print(fish_data[:5])"
   ]
  },
  {
   "cell_type": "code",
   "execution_count": 37,
   "id": "814f9cc3",
   "metadata": {},
   "outputs": [
    {
     "name": "stdout",
     "output_type": "stream",
     "text": [
      "[0. 0. 0. 0. 0.]\n",
      "[1. 1. 1. 1. 1.]\n"
     ]
    }
   ],
   "source": [
    "# np에서 제공하는 0과 1로 채워주는 함수\n",
    "print(np.zeros(5))\n",
    "print(np.ones(5))"
   ]
  },
  {
   "cell_type": "code",
   "execution_count": 38,
   "id": "58e19bc0",
   "metadata": {},
   "outputs": [
    {
     "data": {
      "text/plain": [
       "array([1., 1., 1., 1., 1., 1., 1., 1., 1., 1., 1., 1., 1., 1., 1., 1., 1.,\n",
       "       1., 1., 1., 1., 1., 1., 1., 1., 1., 1., 1., 1., 1., 1., 1., 1., 1.,\n",
       "       1., 0., 0., 0., 0., 0., 0., 0., 0., 0., 0., 0., 0., 0., 0.])"
      ]
     },
     "execution_count": 38,
     "metadata": {},
     "output_type": "execute_result"
    }
   ],
   "source": [
    "# column_stack() : 세로로 연결\n",
    "# concatenate() : 가로로 연결\n",
    "fish_target = np.concatenate((np.ones(35),np.zeros(14)))\n",
    "fish_target"
   ]
  },
  {
   "cell_type": "code",
   "execution_count": 39,
   "id": "6ba37af6",
   "metadata": {},
   "outputs": [],
   "source": [
    "from sklearn.model_selection import train_test_split"
   ]
  },
  {
   "cell_type": "code",
   "execution_count": 40,
   "id": "55884be2",
   "metadata": {},
   "outputs": [],
   "source": [
    "# train / test 세트 분할\n",
    "# 랜덤 시드 = 랜덤 고정 가능\n",
    "# 비율 조정 가능\n",
    "train_input, test_input, train_target, test_target = train_test_split(fish_data,fish_target, random_state=42)"
   ]
  },
  {
   "cell_type": "code",
   "execution_count": 41,
   "id": "82823e17",
   "metadata": {},
   "outputs": [
    {
     "name": "stdout",
     "output_type": "stream",
     "text": [
      "(36, 2) (13, 2)\n"
     ]
    }
   ],
   "source": [
    "# 2차원\n",
    "print(train_input.shape,test_input.shape)"
   ]
  },
  {
   "cell_type": "code",
   "execution_count": 42,
   "id": "2deafd19",
   "metadata": {},
   "outputs": [
    {
     "name": "stdout",
     "output_type": "stream",
     "text": [
      "(36,) (13,)\n"
     ]
    }
   ],
   "source": [
    "# 타겟이기에 1차원\n",
    "print(train_target.shape,test_target.shape)"
   ]
  },
  {
   "cell_type": "code",
   "execution_count": 43,
   "id": "43c1b0fd",
   "metadata": {},
   "outputs": [
    {
     "name": "stdout",
     "output_type": "stream",
     "text": [
      "[1. 0. 0. 0. 1. 1. 1. 1. 1. 1. 1. 1. 1.]\n"
     ]
    }
   ],
   "source": [
    "# 비율이 도미 10 빙어 3으로 편향이 존재 -> 나눌때 straify 사용\n",
    "print(test_target)"
   ]
  },
  {
   "cell_type": "code",
   "execution_count": 44,
   "id": "229712bf",
   "metadata": {},
   "outputs": [],
   "source": [
    "train_input, test_input, train_target, test_target = train_test_split(fish_data,fish_target, stratify=fish_target ,random_state=42)"
   ]
  },
  {
   "cell_type": "code",
   "execution_count": 45,
   "id": "fc026f79",
   "metadata": {},
   "outputs": [
    {
     "name": "stdout",
     "output_type": "stream",
     "text": [
      "[0. 0. 1. 0. 1. 0. 1. 1. 1. 1. 1. 1. 1.]\n"
     ]
    }
   ],
   "source": [
    "print(test_target)"
   ]
  },
  {
   "cell_type": "code",
   "execution_count": 46,
   "id": "df5557af",
   "metadata": {},
   "outputs": [
    {
     "data": {
      "text/plain": [
       "1.0"
      ]
     },
     "execution_count": 46,
     "metadata": {},
     "output_type": "execute_result"
    }
   ],
   "source": [
    "# 그럼 예측!\n",
    "kn = KNeighborsClassifier()\n",
    "kn.fit(train_input,train_target)\n",
    "kn.score(test_input,test_target)"
   ]
  },
  {
   "cell_type": "code",
   "execution_count": 47,
   "id": "acfc5486",
   "metadata": {},
   "outputs": [
    {
     "name": "stdout",
     "output_type": "stream",
     "text": [
      "[0.]\n"
     ]
    }
   ],
   "source": [
    "print(kn.predict([[25,150]]))\n",
    "# 도미여야 하는데, 빙어가 나옴"
   ]
  },
  {
   "cell_type": "code",
   "execution_count": 48,
   "id": "92e28990",
   "metadata": {},
   "outputs": [
    {
     "data": {
      "image/png": "[encoded data removed]",
      "text/plain": [
       "<Figure size 432x288 with 1 Axes>"
      ]
     },
     "metadata": {
      "needs_background": "light"
     },
     "output_type": "display_data"
    }
   ],
   "source": [
    "plt.scatter(train_input[:,0],train_input[:,1])\n",
    "plt.scatter(25,150,marker='^')\n",
    "plt.xlabel('length')\n",
    "plt.ylabel('weight')\n",
    "plt.show()\n",
    "# 삼각형 모양의 값은 도미에 더 가깝지만\n",
    "# KNN은 주변 요소'들'의 값, 기본 5개 를 기준으로 판별하기 때문에 발생"
   ]
  },
  {
   "cell_type": "code",
   "execution_count": 49,
   "id": "5e467889",
   "metadata": {},
   "outputs": [],
   "source": [
    "distances, indexs = kn.kneighbors([[25,150]])"
   ]
  },
  {
   "cell_type": "code",
   "execution_count": 50,
   "id": "20d02d77",
   "metadata": {},
   "outputs": [
    {
     "data": {
      "image/png": "[encoded data removed]",
      "text/plain": [
       "<Figure size 432x288 with 1 Axes>"
      ]
     },
     "metadata": {
      "needs_background": "light"
     },
     "output_type": "display_data"
    }
   ],
   "source": [
    "plt.scatter(train_input[:,0],train_input[:,1])\n",
    "plt.scatter(25,150,marker='^')\n",
    "plt.scatter(train_input[indexs,0],train_input[indexs,1], marker='D')\n",
    "plt.xlabel('length')\n",
    "plt.ylabel('weight')\n",
    "plt.show()\n",
    "# 보이는 것 처럼 가까운 이웃이 빙어에 더 많음"
   ]
  },
  {
   "cell_type": "code",
   "execution_count": 51,
   "id": "8aacd7cb",
   "metadata": {},
   "outputs": [
    {
     "name": "stdout",
     "output_type": "stream",
     "text": [
      "[[1. 0. 0. 0. 0.]]\n"
     ]
    }
   ],
   "source": [
    "print(train_target[indexs])"
   ]
  },
  {
   "cell_type": "code",
   "execution_count": 52,
   "id": "036a44ac",
   "metadata": {},
   "outputs": [
    {
     "name": "stdout",
     "output_type": "stream",
     "text": [
      "[[ 92.00086956 130.48375378 130.73859415 138.32150953 138.39320793]]\n"
     ]
    }
   ],
   "source": [
    "print(distances)\n",
    "# 특이점과 이웃간의 거리"
   ]
  },
  {
   "cell_type": "code",
   "execution_count": 53,
   "id": "33a4c84b",
   "metadata": {},
   "outputs": [
    {
     "data": {
      "image/png": "[encoded data removed]",
      "text/plain": [
       "<Figure size 432x288 with 1 Axes>"
      ]
     },
     "metadata": {
      "needs_background": "light"
     },
     "output_type": "display_data"
    }
   ],
   "source": [
    "plt.scatter(train_input[:,0],train_input[:,1])\n",
    "plt.scatter(25,150,marker='^')\n",
    "plt.scatter(train_input[indexs,0],train_input[indexs,1], marker='D')\n",
    "plt.xlim(0,1000)\n",
    "plt.xlabel('length')\n",
    "plt.ylabel('weight')\n",
    "plt.show()\n",
    "# 보이는 것 처럼 가까운 이웃이 빙어에 더 많음\n",
    "# 이유는 x값으로는 5 단위로 차이 나지만 y 갑으로는 200단위로 차이나서\n",
    "# 결과적으로 '거리'는 빙어가 더 가까운걸로 판결"
   ]
  },
  {
   "cell_type": "markdown",
   "id": "11428c24",
   "metadata": {},
   "source": [
    "### 전처리\n",
    "로 스케일을 맞춰줘야함"
   ]
  },
  {
   "cell_type": "code",
   "execution_count": 54,
   "id": "17292214",
   "metadata": {},
   "outputs": [
    {
     "name": "stdout",
     "output_type": "stream",
     "text": [
      "[ 27.29722222 454.09722222] [  9.98244253 323.29893931]\n"
     ]
    }
   ],
   "source": [
    "# 표준점수 : 평균점수에서 얼마나 떨어져있나\n",
    "# axis 0 : 세로\n",
    "# axis 1 : 가로\n",
    "# 평균\n",
    "mean = np.mean(train_input,axis=0)\n",
    "# 표준편차\n",
    "std = np.std(train_input, axis=0)\n",
    "print(mean, std)"
   ]
  },
  {
   "cell_type": "code",
   "execution_count": 55,
   "id": "c1340d20",
   "metadata": {},
   "outputs": [
    {
     "data": {
      "text/plain": [
       "array([[ 0.24070039,  0.14198246],\n",
       "       [-1.51237757, -1.36683783],\n",
       "       [ 0.5712808 ,  0.76060496],\n",
       "       [-1.60253587, -1.37766373],\n",
       "       [ 1.22242404,  1.45655528]])"
      ]
     },
     "execution_count": 55,
     "metadata": {},
     "output_type": "execute_result"
    }
   ],
   "source": [
    "# 표준점수로 변환 : ( 특성 - 평균 ) / 표준편차\n",
    "train_scaled = (train_input - mean) / std\n",
    "train_scaled[:5]"
   ]
  },
  {
   "cell_type": "code",
   "execution_count": 56,
   "id": "b8f96ba8",
   "metadata": {},
   "outputs": [
    {
     "data": {
      "image/png": "[encoded data removed]",
      "text/plain": [
       "<Figure size 432x288 with 1 Axes>"
      ]
     },
     "metadata": {
      "needs_background": "light"
     },
     "output_type": "display_data"
    }
   ],
   "source": [
    "plt.scatter(train_scaled[:,0],train_scaled[:,1])\n",
    "plt.scatter(25,150,marker='^')\n",
    "plt.xlabel('length')\n",
    "plt.ylabel('weight')\n",
    "plt.show()\n",
    "# 25, 150 은 스케일링이 안되어서"
   ]
  },
  {
   "cell_type": "code",
   "execution_count": 57,
   "id": "a8580afd",
   "metadata": {},
   "outputs": [
    {
     "data": {
      "image/png": "[encoded data removed]",
      "text/plain": [
       "<Figure size 432x288 with 1 Axes>"
      ]
     },
     "metadata": {
      "needs_background": "light"
     },
     "output_type": "display_data"
    }
   ],
   "source": [
    "new = ([25,150] - mean) / std\n",
    "plt.scatter(train_scaled[:,0],train_scaled[:,1])\n",
    "plt.scatter(new[0],new[1],marker='^')\n",
    "plt.xlabel('length')\n",
    "plt.ylabel('weight')\n",
    "plt.show()\n",
    "# 처음본 그래프 정도와 똑같음"
   ]
  },
  {
   "cell_type": "code",
   "execution_count": 58,
   "id": "712dd7f3",
   "metadata": {},
   "outputs": [
    {
     "data": {
      "text/plain": [
       "KNeighborsClassifier()"
      ]
     },
     "execution_count": 58,
     "metadata": {},
     "output_type": "execute_result"
    }
   ],
   "source": [
    "# 다시 훈련!\n",
    "kn = KNeighborsClassifier()\n",
    "kn.fit(train_scaled,train_target)"
   ]
  },
  {
   "cell_type": "code",
   "execution_count": 59,
   "id": "277888c5",
   "metadata": {},
   "outputs": [
    {
     "data": {
      "text/plain": [
       "1.0"
      ]
     },
     "execution_count": 59,
     "metadata": {},
     "output_type": "execute_result"
    }
   ],
   "source": [
    "# 훈련과 테스트 모두 스케일링 되어야함\n",
    "test_scaled = (test_input - mean) / std\n",
    "kn.score(test_scaled,test_target)"
   ]
  },
  {
   "cell_type": "code",
   "execution_count": 60,
   "id": "98a28f1e",
   "metadata": {},
   "outputs": [
    {
     "name": "stdout",
     "output_type": "stream",
     "text": [
      "[1.]\n"
     ]
    }
   ],
   "source": [
    "print(kn.predict([new]))\n",
    "# 예측 성공!"
   ]
  },
  {
   "cell_type": "code",
   "execution_count": 61,
   "id": "c3befa8e",
   "metadata": {},
   "outputs": [
    {
     "data": {
      "image/png": "[encoded data removed]",
      "text/plain": [
       "<Figure size 432x288 with 1 Axes>"
      ]
     },
     "metadata": {
      "needs_background": "light"
     },
     "output_type": "display_data"
    }
   ],
   "source": [
    "distances, indexs = kn.kneighbors([new])\n",
    "plt.scatter(train_scaled[:,0],train_scaled[:,1])\n",
    "plt.scatter(new[0], new[1],marker='^')\n",
    "plt.scatter(train_scaled[indexs,0],train_scaled[indexs,1], marker='D')\n",
    "plt.xlabel('length')\n",
    "plt.ylabel('weight')\n",
    "plt.show()\n",
    "# 이웃이 정상적으로 근접함!"
   ]
  },
  {
   "cell_type": "markdown",
   "id": "cbb198a7",
   "metadata": {},
   "source": [
    "## 회귀\n",
    "두 특성의 상관관계의 숫자 '예측'"
   ]
  },
  {
   "cell_type": "code",
   "execution_count": 62,
   "id": "033c899c",
   "metadata": {},
   "outputs": [],
   "source": [
    "perch_length = np.array([8.4, 13.7, 15.0, 16.2, 17.4, 18.0, 18.7, 19.0, 19.6, 20.0, 21.0,\n",
    "       21.0, 21.0, 21.3, 22.0, 22.0, 22.0, 22.0, 22.0, 22.5, 22.5, 22.7,\n",
    "       23.0, 23.5, 24.0, 24.0, 24.6, 25.0, 25.6, 26.5, 27.3, 27.5, 27.5,\n",
    "       27.5, 28.0, 28.7, 30.0, 32.8, 34.5, 35.0, 36.5, 36.0, 37.0, 37.0,\n",
    "       39.0, 39.0, 39.0, 40.0, 40.0, 40.0, 40.0, 42.0, 43.0, 43.0, 43.5,\n",
    "       44.0])\n",
    "perch_weight = np.array([5.9, 32.0, 40.0, 51.5, 70.0, 100.0, 78.0, 80.0, 85.0, 85.0, 110.0,\n",
    "       115.0, 125.0, 130.0, 120.0, 120.0, 130.0, 135.0, 110.0, 130.0,\n",
    "       150.0, 145.0, 150.0, 170.0, 225.0, 145.0, 188.0, 180.0, 197.0,\n",
    "       218.0, 300.0, 260.0, 265.0, 250.0, 250.0, 300.0, 320.0, 514.0,\n",
    "       556.0, 840.0, 685.0, 700.0, 700.0, 690.0, 900.0, 650.0, 820.0,\n",
    "       850.0, 900.0, 1015.0, 820.0, 1100.0, 1000.0, 1100.0, 1000.0,\n",
    "       1000.0])"
   ]
  },
  {
   "cell_type": "code",
   "execution_count": 63,
   "id": "4e4fb9c4",
   "metadata": {},
   "outputs": [
    {
     "data": {
      "image/png": "[encoded data removed]",
      "text/plain": [
       "<Figure size 432x288 with 1 Axes>"
      ]
     },
     "metadata": {
      "needs_background": "light"
     },
     "output_type": "display_data"
    }
   ],
   "source": [
    "plt.scatter(perch_length,perch_weight)\n",
    "plt.xlabel('length')\n",
    "plt.ylabel('weight')\n",
    "plt.show()\n",
    "# 농어의 길이에 따라 무게가 늘어남"
   ]
  },
  {
   "cell_type": "code",
   "execution_count": 64,
   "id": "7c891f10",
   "metadata": {},
   "outputs": [],
   "source": [
    "train_input, test_input, train_target, test_target = train_test_split(perch_length,perch_weight, random_state=42)"
   ]
  },
  {
   "cell_type": "code",
   "execution_count": 65,
   "id": "99e99de7",
   "metadata": {},
   "outputs": [
    {
     "data": {
      "text/plain": [
       "array([19.6, 22. , 18.7, 17.4, 36. , 25. , 40. , 39. , 43. , 22. , 20. ,\n",
       "       22. , 24. , 27.5, 43. , 40. , 24. , 21. , 27.5, 40. , 32.8, 26.5,\n",
       "       36.5, 13.7, 22.7, 15. , 37. , 35. , 28.7, 23.5, 39. , 21. , 23. ,\n",
       "       22. , 44. , 22.5, 19. , 37. , 22. , 25.6, 42. , 34.5])"
      ]
     },
     "execution_count": 65,
     "metadata": {},
     "output_type": "execute_result"
    }
   ],
   "source": [
    "# split을 사용하기 위해선 2차원이여야 함, 하지만 지금은 1차원임\n",
    "train_input"
   ]
  },
  {
   "cell_type": "code",
   "execution_count": 66,
   "id": "62259c80",
   "metadata": {},
   "outputs": [
    {
     "name": "stdout",
     "output_type": "stream",
     "text": [
      "(42,)\n"
     ]
    }
   ],
   "source": [
    "print(train_input.shape)\n",
    "# ( 42, ) : 1차원을 42,1 로 2차원으로 바꿔줘야함"
   ]
  },
  {
   "cell_type": "code",
   "execution_count": 67,
   "id": "49fcdb4a",
   "metadata": {},
   "outputs": [
    {
     "name": "stdout",
     "output_type": "stream",
     "text": [
      "(42, 1) (14, 1)\n"
     ]
    }
   ],
   "source": [
    "# reshape를 이용 / -1은 자동 조정\n",
    "train_input = train_input.reshape(-1,1)\n",
    "test_input = test_input.reshape(-1,1)\n",
    "print(train_input.shape, test_input.shape)"
   ]
  },
  {
   "cell_type": "code",
   "execution_count": 68,
   "id": "264eaa97",
   "metadata": {},
   "outputs": [
    {
     "data": {
      "text/plain": [
       "KNeighborsRegressor()"
      ]
     },
     "execution_count": 68,
     "metadata": {},
     "output_type": "execute_result"
    }
   ],
   "source": [
    "from sklearn.neighbors import KNeighborsRegressor\n",
    "# Classifier 와 비슷하지만 분류와, 회귀인것이 다름\n",
    "\n",
    "knr = KNeighborsRegressor()\n",
    "\n",
    "knr.fit(train_input,train_target)"
   ]
  },
  {
   "cell_type": "code",
   "execution_count": 69,
   "id": "32834703",
   "metadata": {},
   "outputs": [
    {
     "name": "stdout",
     "output_type": "stream",
     "text": [
      "0.992809406101064\n"
     ]
    }
   ],
   "source": [
    "print(knr.score(test_input,test_target))\n",
    "# 분류에서는 정확도가 1이 나올 수 있어도,\n",
    "# 회귀에서는 정확한 숫자를 맞출 수 없다. : 예측 값, 타깃이 임의이기 때문"
   ]
  },
  {
   "cell_type": "markdown",
   "id": "b2ddf003",
   "metadata": {},
   "source": [
    "### 그렇기에 평가는 '결정계수'를 사용 : R^2\n",
    "1 - (타겟 - 예측)^2 의 합 / (타겟 - 평균)^2의 합"
   ]
  },
  {
   "cell_type": "code",
   "execution_count": 70,
   "id": "cbe8db8a",
   "metadata": {
    "scrolled": true
   },
   "outputs": [
    {
     "name": "stdout",
     "output_type": "stream",
     "text": [
      "[  60.    79.6  248.   122.   136.   847.   311.4  183.4  847.   113.\n",
      " 1010.    60.   248.   248. ]\n",
      "19.157142857142862\n"
     ]
    }
   ],
   "source": [
    "# 타겟과 예측의 절댓값 오차를 평균 반환\n",
    "from sklearn.metrics import mean_absolute_error\n",
    "\n",
    "# 테스트 세트에 대한 예측\n",
    "test_prediction = knr.predict(test_input)\n",
    "print(test_prediction)\n",
    "\n",
    "# 테스트 세트에 대한 평균 절댓값 오차 계산\n",
    "mae = mean_absolute_error(test_target, test_prediction)\n",
    "print(mae)\n",
    "\n",
    "# 즉, 예측이 19정도 차이가 난다."
   ]
  },
  {
   "cell_type": "code",
   "execution_count": 71,
   "id": "ddca33a9",
   "metadata": {},
   "outputs": [
    {
     "name": "stdout",
     "output_type": "stream",
     "text": [
      "0.9698823289099254\n"
     ]
    }
   ],
   "source": [
    "# 훈련세트로 하면 어떻게 될까?\n",
    "print(knr.score(train_input, train_target))"
   ]
  },
  {
   "cell_type": "markdown",
   "id": "37b025c5",
   "metadata": {},
   "source": [
    "## 과대적합 vs 과소적합\n",
    "과대 : 훈련세트 점수 > 테스트세트 점수 : 실전 투입시 잘 동작 x\n",
    "\n",
    "과소 : 훈련세트 점수 < 테스트세트 점수 or 둘다 점수 낮음 : 모델이 너무 단순해서 훈련이 제대로 안됨"
   ]
  },
  {
   "cell_type": "code",
   "execution_count": 72,
   "id": "c6c050a7",
   "metadata": {},
   "outputs": [
    {
     "name": "stdout",
     "output_type": "stream",
     "text": [
      "0.9804899950518966\n"
     ]
    }
   ],
   "source": [
    "# 과소적합을 해결하기 위해선 모델을 복잡하게!\n",
    "# KNR에선 이웃수를 줄이기!\n",
    "knr.n_neighbors = 3\n",
    "\n",
    "knr.fit(train_input, train_target)\n",
    "print(knr.score(train_input, train_target))\n",
    "# 실제로 더 높아짐"
   ]
  },
  {
   "cell_type": "code",
   "execution_count": 73,
   "id": "527b3cbe",
   "metadata": {},
   "outputs": [
    {
     "name": "stdout",
     "output_type": "stream",
     "text": [
      "0.9746459963987609\n"
     ]
    }
   ],
   "source": [
    "print(knr.score(test_input, test_target))\n",
    "# 두 점수가 얼마 차이가 나지 않으니 과대또한 아님"
   ]
  },
  {
   "cell_type": "markdown",
   "id": "8de670fb",
   "metadata": {},
   "source": [
    "## 선형회귀"
   ]
  },
  {
   "cell_type": "code",
   "execution_count": 78,
   "id": "ffce3b68",
   "metadata": {},
   "outputs": [],
   "source": [
    "perch_length = np.array([8.4, 13.7, 15.0, 16.2, 17.4, 18.0, 18.7, 19.0, 19.6, 20.0, 21.0,\n",
    "       21.0, 21.0, 21.3, 22.0, 22.0, 22.0, 22.0, 22.0, 22.5, 22.5, 22.7,\n",
    "       23.0, 23.5, 24.0, 24.0, 24.6, 25.0, 25.6, 26.5, 27.3, 27.5, 27.5,\n",
    "       27.5, 28.0, 28.7, 30.0, 32.8, 34.5, 35.0, 36.5, 36.0, 37.0, 37.0,\n",
    "       39.0, 39.0, 39.0, 40.0, 40.0, 40.0, 40.0, 42.0, 43.0, 43.0, 43.5,\n",
    "       44.0])\n",
    "perch_weight = np.array([5.9, 32.0, 40.0, 51.5, 70.0, 100.0, 78.0, 80.0, 85.0, 85.0, 110.0,\n",
    "       115.0, 125.0, 130.0, 120.0, 120.0, 130.0, 135.0, 110.0, 130.0,\n",
    "       150.0, 145.0, 150.0, 170.0, 225.0, 145.0, 188.0, 180.0, 197.0,\n",
    "       218.0, 300.0, 260.0, 265.0, 250.0, 250.0, 300.0, 320.0, 514.0,\n",
    "       556.0, 840.0, 685.0, 700.0, 700.0, 690.0, 900.0, 650.0, 820.0,\n",
    "       850.0, 900.0, 1015.0, 820.0, 1100.0, 1000.0, 1100.0, 1000.0,\n",
    "       1000.0])"
   ]
  },
  {
   "cell_type": "code",
   "execution_count": 79,
   "id": "b7714a3d",
   "metadata": {},
   "outputs": [],
   "source": [
    "train_input, test_input, train_target, test_target = train_test_split(perch_length,perch_weight, random_state=42)"
   ]
  },
  {
   "cell_type": "code",
   "execution_count": 80,
   "id": "73985b5a",
   "metadata": {},
   "outputs": [],
   "source": [
    "train_input = train_input.reshape(-1,1)\n",
    "test_input = test_input.reshape(-1,1)"
   ]
  },
  {
   "cell_type": "code",
   "execution_count": 81,
   "id": "7b75df07",
   "metadata": {},
   "outputs": [
    {
     "data": {
      "text/plain": [
       "KNeighborsRegressor()"
      ]
     },
     "execution_count": 81,
     "metadata": {},
     "output_type": "execute_result"
    }
   ],
   "source": [
    "from sklearn.neighbors import KNeighborsRegressor\n",
    "\n",
    "knr = KNeighborsRegressor()\n",
    "\n",
    "knr.fit(train_input, train_target)"
   ]
  },
  {
   "cell_type": "code",
   "execution_count": 84,
   "id": "b0c12d6e",
   "metadata": {},
   "outputs": [
    {
     "name": "stdout",
     "output_type": "stream",
     "text": [
      "[1010.]\n"
     ]
    }
   ],
   "source": [
    "print(knr.predict([[50]]))"
   ]
  },
  {
   "cell_type": "code",
   "execution_count": 86,
   "id": "c100d600",
   "metadata": {},
   "outputs": [
    {
     "data": {
      "image/png": "[encoded data removed]",
      "text/plain": [
       "<Figure size 432x288 with 1 Axes>"
      ]
     },
     "metadata": {
      "needs_background": "light"
     },
     "output_type": "display_data"
    }
   ],
   "source": [
    "distances, indexs = knr.kneighbors([[50]])\n",
    "\n",
    "plt.scatter(train_input, train_target)\n",
    "plt.scatter(train_input[indexs], train_target[indexs], marker = 'D')\n",
    "\n",
    "plt.scatter(50,1033,marker='^')\n",
    "plt.xlabel('length')\n",
    "plt.ylabel('weight')\n",
    "plt.show()"
   ]
  },
  {
   "cell_type": "code",
   "execution_count": 88,
   "id": "2e148c9a",
   "metadata": {},
   "outputs": [
    {
     "name": "stdout",
     "output_type": "stream",
     "text": [
      "1010.0\n"
     ]
    }
   ],
   "source": [
    "print(np.mean(train_target[indexs]))\n",
    "# 주변 이웃의 평균값이 나오는것이기에 더 큰값을 해도 변하지 않는다."
   ]
  },
  {
   "cell_type": "code",
   "execution_count": null,
   "id": "2438eaa3",
   "metadata": {},
   "outputs": [],
   "source": []
  }
 ],
 "metadata": {
  "kernelspec": {
   "display_name": "Python 3 (ipykernel)",
   "language": "python",
   "name": "python3"
  },
  "language_info": {
   "codemirror_mode": {
    "name": "ipython",
    "version": 3
   },
   "file_extension": ".py",
   "mimetype": "text/x-python",
   "name": "python",
   "nbconvert_exporter": "python",
   "pygments_lexer": "ipython3",
   "version": "3.9.12"
  }
 },
 "nbformat": 4,
 "nbformat_minor": 5
}
